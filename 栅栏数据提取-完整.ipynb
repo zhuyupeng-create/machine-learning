{
 "cells": [
  {
   "cell_type": "code",
   "execution_count": 85,
   "id": "f7d630a0",
   "metadata": {
    "ExecuteTime": {
     "end_time": "2022-11-01T22:29:22.333835Z",
     "start_time": "2022-11-01T22:29:20.675471Z"
    }
   },
   "outputs": [],
   "source": [
    "import os\n",
    "import time\n",
    "import rasterio\n",
    "import numpy as np\n",
    "import pandas as pd\n",
    "from osgeo import gdal\n",
    "import geopandas as gpd\n",
    "from shapely import geometry\n",
    "from rasterio.plot import show\n",
    "import matplotlib.pyplot as plt\n",
    "from osgeo import gdal, gdalconst,ogr, osr"
   ]
  },
  {
   "cell_type": "markdown",
   "id": "9d31ffa7",
   "metadata": {},
   "source": [
    "# 数据查看"
   ]
  },
  {
   "cell_type": "code",
   "execution_count": 90,
   "id": "2e22305a",
   "metadata": {
    "ExecuteTime": {
     "end_time": "2022-11-01T22:30:27.457923Z",
     "start_time": "2022-11-01T22:30:27.420633Z"
    }
   },
   "outputs": [],
   "source": [
    "driver = ogr.GetDriverByName('ESRI Shapefile')\n",
    "rs = rasterio.open('D:/zhuyupeng/数据集-张朝/生育期/V3_2011_2020_Beijing.tif')"
   ]
  },
  {
   "cell_type": "code",
   "execution_count": 91,
   "id": "d7b721fb",
   "metadata": {
    "ExecuteTime": {
     "end_time": "2022-11-01T22:30:28.116317Z",
     "start_time": "2022-11-01T22:30:28.094884Z"
    }
   },
   "outputs": [
    {
     "data": {
      "text/plain": [
       "{'driver': 'GTiff',\n",
       " 'dtype': 'int16',\n",
       " 'nodata': None,\n",
       " 'width': 7761,\n",
       " 'height': 6001,\n",
       " 'count': 11,\n",
       " 'crs': CRS.from_epsg(4326),\n",
       " 'transform': Affine(0.00026949458523585647, 0.0, 115.41671551354548,\n",
       "        0.0, -0.00026949458523585647, 41.05911702819415)}"
      ]
     },
     "execution_count": 91,
     "metadata": {},
     "output_type": "execute_result"
    }
   ],
   "source": [
    "rs.meta"
   ]
  },
  {
   "cell_type": "code",
   "execution_count": 92,
   "id": "ffbb3162",
   "metadata": {
    "ExecuteTime": {
     "end_time": "2022-11-01T22:30:28.741473Z",
     "start_time": "2022-11-01T22:30:28.723295Z"
    }
   },
   "outputs": [
    {
     "data": {
      "text/plain": [
       "('y2011',\n",
       " 'y2012',\n",
       " 'y2013',\n",
       " 'y2014',\n",
       " 'y2015',\n",
       " 'y2016',\n",
       " 'y2017',\n",
       " 'y2018',\n",
       " 'y2019',\n",
       " 'y2020',\n",
       " 'maize_type')"
      ]
     },
     "execution_count": 92,
     "metadata": {},
     "output_type": "execute_result"
    }
   ],
   "source": [
    "rs.descriptions"
   ]
  },
  {
   "cell_type": "code",
   "execution_count": 93,
   "id": "6b084834",
   "metadata": {
    "ExecuteTime": {
     "end_time": "2022-11-01T22:30:32.144876Z",
     "start_time": "2022-11-01T22:30:29.406647Z"
    }
   },
   "outputs": [
    {
     "data": {
      "image/png": "[encoded data removed]",
      "text/plain": [
       "<Figure size 432x288 with 1 Axes>"
      ]
     },
     "metadata": {
      "needs_background": "light"
     },
     "output_type": "display_data"
    },
    {
     "data": {
      "text/plain": [
       "<AxesSubplot:>"
      ]
     },
     "execution_count": 93,
     "metadata": {},
     "output_type": "execute_result"
    }
   ],
   "source": [
    "show(rs)"
   ]
  },
  {
   "cell_type": "markdown",
   "id": "0401944e",
   "metadata": {},
   "source": [
    "# 数据获取"
   ]
  },
  {
   "cell_type": "code",
   "execution_count": 94,
   "id": "111082a4",
   "metadata": {
    "ExecuteTime": {
     "end_time": "2022-11-01T22:30:36.233227Z",
     "start_time": "2022-11-01T22:30:36.203765Z"
    }
   },
   "outputs": [],
   "source": [
    "def rasterToPoints(rasterfile, nodata=None, v_name=None):\n",
    "    \n",
    "    \"\"\"\n",
    "    :rasterfile: 待执行栅格转点的栅格文件\n",
    "    :nodata:栅格中的无数据值,默认取栅格的最小值\n",
    "    :v_name:导出表格中栅格值所在列的名称，默认为栅格的文件名\n",
    "    :return:x、y、value\n",
    "    \n",
    "    \"\"\"\n",
    "    # numpy禁用科学计数法,pandas中存储浮点型时只保留四位小数\n",
    "    np.set_printoptions(suppress=True)\n",
    "    pd.set_option('display.float_format', lambda x: '%.4f' % x)\n",
    "\n",
    "    rds = gdal.Open(rasterfile)  # 数据读取\n",
    "    if rds.RasterCount != 1:\n",
    "        print(\"Warning, RasterCount > 1\")\n",
    "\n",
    "    cols = rds.RasterXSize\n",
    "    rows = rds.RasterYSize\n",
    "    band = rds.GetRasterBand(1)  # 可更改括弧里数字以便更改土层\n",
    "    transform = rds.GetGeoTransform() #栅栏地理坐标转为经纬度\n",
    "    \n",
    "    print(transform)\n",
    "    \n",
    "    x_origin = transform[0]\n",
    "    y_origin = transform[3]\n",
    "    pixel_width = transform[1]\n",
    "    pixel_height = transform[5]\n",
    "    \n",
    "    if (pixel_height + pixel_width) != 0:\n",
    "        print(\"Warning, pixelWidth != pixelHeight\")\n",
    "    \n",
    "    # 读取栅格，数组与数列转换\n",
    "    values = np.array(band.ReadAsArray())\n",
    "    x = np.arange(x_origin + pixel_width * 0.5, x_origin + (cols + 0.5) * pixel_width, pixel_width)\n",
    "    y = np.arange(y_origin + pixel_height*0.5, y_origin + (rows+0.5) * pixel_height, pixel_height)\n",
    "    px, py = np.meshgrid(x, y)\n",
    "    \n",
    "    if v_name is None:\n",
    "        v_name = os.path.splitext(os.path.split(rasterfile)[1])[0]\n",
    "    dataset = {\"Longitude\": px.ravel(),\n",
    "               \"latitude\": py.ravel(),\n",
    "               v_name: values.ravel()}\n",
    "    df_temp = pd.DataFrame(dataset, dtype=\"float32\")#形成DateFrame\n",
    "\n",
    "    # 删除缺失值\n",
    "    if nodata is None:\n",
    "        nodata = df_temp[v_name].min()\n",
    "        df_temp = df_temp[df_temp[v_name] != nodata]\n",
    "    else:\n",
    "        df_temp = df_temp[df_temp[v_name] != nodata]\n",
    "\n",
    "    df_temp.index = range(len(df_temp))\n",
    "    \n",
    "    return df_temp"
   ]
  },
  {
   "cell_type": "code",
   "execution_count": 96,
   "id": "52e640c7",
   "metadata": {
    "ExecuteTime": {
     "end_time": "2022-11-01T22:32:01.850610Z",
     "start_time": "2022-11-01T22:31:58.824312Z"
    },
    "scrolled": false
   },
   "outputs": [
    {
     "name": "stdout",
     "output_type": "stream",
     "text": [
      "Warning, RasterCount > 1\n",
      "(115.41671551354548, 0.00026949458523585647, 0.0, 41.05911702819415, 0.0, -0.00026949458523585647)\n",
      "time used 3.009571075439453s\n"
     ]
    }
   ],
   "source": [
    "if __name__ == \"__main__\":\n",
    "    # 禁用科学计数法\n",
    "    np.set_printoptions(suppress=True)\n",
    "    pd.set_option('display.float_format', lambda x: '%.4f' % x)\n",
    "    # 执行栅格转点，并计时\n",
    "    s = time.time()\n",
    "    # in_tif是输入栅格，刚才裁剪的结果\n",
    "    in_tif = r\"D:/zhuyupeng/数据集-张朝/生育期/V3_2011_2020_Beijing.tif\"\n",
    "    outfile = rasterToPoints(in_tif, v_name=\"values\") # v_name是你自己定义的栅格字段列名称\n",
    "    outfile.to_csv(\"data.csv\",index=None) # 导出csv文件\n",
    "    e = time.time()\n",
    "    print(\"time used {0}s\".format(e-s)) "
   ]
  },
  {
   "cell_type": "code",
   "execution_count": 135,
   "id": "5a778af8",
   "metadata": {
    "ExecuteTime": {
     "end_time": "2022-11-01T22:50:50.768575Z",
     "start_time": "2022-11-01T22:50:50.500596Z"
    }
   },
   "outputs": [
    {
     "data": {
      "text/html": [
       "<div>\n",
       "<style scoped>\n",
       "    .dataframe tbody tr th:only-of-type {\n",
       "        vertical-align: middle;\n",
       "    }\n",
       "\n",
       "    .dataframe tbody tr th {\n",
       "        vertical-align: top;\n",
       "    }\n",
       "\n",
       "    .dataframe thead th {\n",
       "        text-align: right;\n",
       "    }\n",
       "</style>\n",
       "<table border=\"1\" class=\"dataframe\">\n",
       "  <thead>\n",
       "    <tr style=\"text-align: right;\">\n",
       "      <th></th>\n",
       "      <th>Longitude</th>\n",
       "      <th>latitude</th>\n",
       "      <th>values</th>\n",
       "    </tr>\n",
       "  </thead>\n",
       "  <tbody>\n",
       "    <tr>\n",
       "      <th>0</th>\n",
       "      <td>116.6250</td>\n",
       "      <td>41.0067</td>\n",
       "      <td>124.0000</td>\n",
       "    </tr>\n",
       "    <tr>\n",
       "      <th>1</th>\n",
       "      <td>116.6253</td>\n",
       "      <td>41.0067</td>\n",
       "      <td>141.0000</td>\n",
       "    </tr>\n",
       "    <tr>\n",
       "      <th>2</th>\n",
       "      <td>116.6255</td>\n",
       "      <td>41.0067</td>\n",
       "      <td>141.0000</td>\n",
       "    </tr>\n",
       "    <tr>\n",
       "      <th>3</th>\n",
       "      <td>116.6258</td>\n",
       "      <td>41.0067</td>\n",
       "      <td>145.0000</td>\n",
       "    </tr>\n",
       "    <tr>\n",
       "      <th>4</th>\n",
       "      <td>116.6261</td>\n",
       "      <td>41.0067</td>\n",
       "      <td>151.0000</td>\n",
       "    </tr>\n",
       "    <tr>\n",
       "      <th>...</th>\n",
       "      <td>...</td>\n",
       "      <td>...</td>\n",
       "      <td>...</td>\n",
       "    </tr>\n",
       "    <tr>\n",
       "      <th>301796</th>\n",
       "      <td>116.4272</td>\n",
       "      <td>39.4434</td>\n",
       "      <td>167.0000</td>\n",
       "    </tr>\n",
       "    <tr>\n",
       "      <th>301797</th>\n",
       "      <td>116.4274</td>\n",
       "      <td>39.4434</td>\n",
       "      <td>167.0000</td>\n",
       "    </tr>\n",
       "    <tr>\n",
       "      <th>301798</th>\n",
       "      <td>116.4272</td>\n",
       "      <td>39.4431</td>\n",
       "      <td>168.0000</td>\n",
       "    </tr>\n",
       "    <tr>\n",
       "      <th>301799</th>\n",
       "      <td>116.4274</td>\n",
       "      <td>39.4428</td>\n",
       "      <td>150.0000</td>\n",
       "    </tr>\n",
       "    <tr>\n",
       "      <th>301800</th>\n",
       "      <td>116.4280</td>\n",
       "      <td>39.4423</td>\n",
       "      <td>154.0000</td>\n",
       "    </tr>\n",
       "  </tbody>\n",
       "</table>\n",
       "<p>301801 rows × 3 columns</p>\n",
       "</div>"
      ],
      "text/plain": [
       "        Longitude  latitude   values\n",
       "0        116.6250   41.0067 124.0000\n",
       "1        116.6253   41.0067 141.0000\n",
       "2        116.6255   41.0067 141.0000\n",
       "3        116.6258   41.0067 145.0000\n",
       "4        116.6261   41.0067 151.0000\n",
       "...           ...       ...      ...\n",
       "301796   116.4272   39.4434 167.0000\n",
       "301797   116.4274   39.4434 167.0000\n",
       "301798   116.4272   39.4431 168.0000\n",
       "301799   116.4274   39.4428 150.0000\n",
       "301800   116.4280   39.4423 154.0000\n",
       "\n",
       "[301801 rows x 3 columns]"
      ]
     },
     "execution_count": 135,
     "metadata": {},
     "output_type": "execute_result"
    }
   ],
   "source": [
    "#数据读取\n",
    "cs = pd.read_csv('data.csv')\n",
    "cs"
   ]
  },
  {
   "cell_type": "code",
   "execution_count": 99,
   "id": "fbe2c78b",
   "metadata": {
    "ExecuteTime": {
     "end_time": "2022-11-01T22:32:24.063617Z",
     "start_time": "2022-11-01T22:32:24.049972Z"
    }
   },
   "outputs": [
    {
     "data": {
      "text/plain": [
       "143.9876872508706"
      ]
     },
     "execution_count": 99,
     "metadata": {},
     "output_type": "execute_result"
    }
   ],
   "source": [
    "cs['values'].mean()"
   ]
  },
  {
   "cell_type": "code",
   "execution_count": 141,
   "id": "988f9e57",
   "metadata": {
    "ExecuteTime": {
     "end_time": "2022-11-01T22:55:04.865775Z",
     "start_time": "2022-11-01T22:55:04.839792Z"
    }
   },
   "outputs": [],
   "source": [
    "#获取范围内的数值\n",
    "cs1 = cs[(cs['Longitude']>116.00671551354548) &(cs['Longitude']<116.10671551354548)&(cs['latitude']>40.00911702819415) & (cs['latitude']<41.00911702819415)]"
   ]
  },
  {
   "cell_type": "code",
   "execution_count": 142,
   "id": "a32baa83",
   "metadata": {
    "ExecuteTime": {
     "end_time": "2022-11-01T22:55:10.131161Z",
     "start_time": "2022-11-01T22:55:10.119483Z"
    }
   },
   "outputs": [
    {
     "data": {
      "text/plain": [
       "150.0710610002891"
      ]
     },
     "execution_count": 142,
     "metadata": {},
     "output_type": "execute_result"
    }
   ],
   "source": [
    "#求均值\n",
    "cs1['values'].mean()"
   ]
  },
  {
   "cell_type": "markdown",
   "id": "4fb65d76",
   "metadata": {},
   "source": [
    "# 数据获取"
   ]
  },
  {
   "cell_type": "code",
   "execution_count": 129,
   "id": "19ff4482",
   "metadata": {
    "ExecuteTime": {
     "end_time": "2022-11-01T22:46:07.090713Z",
     "start_time": "2022-11-01T22:46:07.066636Z"
    }
   },
   "outputs": [],
   "source": [
    "#栅栏与矢量数据互转\n",
    "def raster2poly(raster, outshp):\n",
    "    inraster = gdal.Open(raster)  # 读取路径中的栅格数据\n",
    "    inband = inraster.GetRasterBand(1)  # 这个波段就是最后想要转为矢量的波段，如果是单波段数据的话那就都是1\n",
    "    prj = osr.SpatialReference()\n",
    "    prj.ImportFromWkt(inraster.GetProjection())  # 读取栅格数据的投影信息，用来为后面生成的矢量做准备\n",
    "\n",
    "    drv = ogr.GetDriverByName(\"ESRI Shapefile\")\n",
    "    if os.path.exists(outshp):  # 若文件已经存在，则删除它继续重新做一遍\n",
    "        drv.DeleteDataSource(outshp)\n",
    "    Polygon = drv.CreateDataSource(outshp)  # 创建一个目标文件\n",
    "    Poly_layer = Polygon.CreateLayer(raster[:-4], srs=prj, geom_type=ogr.wkbMultiPolygon)  # 对shp文件创建一个图层，定义为多个面类\n",
    "    newField = ogr.FieldDefn('value', ogr.OFTReal)  # 给目标shp文件添加一个字段，用来存储原始栅格的pixel value\n",
    "    Poly_layer.CreateField(newField)\n",
    "\n",
    "    gdal.FPolygonize(inband, None, Poly_layer, 0)  # 核心函数，执行的就是栅格转矢量操作\n",
    "    Polygon.SyncToDisk()\n",
    "    Polygon = None"
   ]
  },
  {
   "cell_type": "code",
   "execution_count": 132,
   "id": "566c0249",
   "metadata": {
    "ExecuteTime": {
     "end_time": "2022-11-01T22:49:53.193413Z",
     "start_time": "2022-11-01T22:49:53.173754Z"
    }
   },
   "outputs": [],
   "source": [
    "raster2poly('D:/zhuyupeng/数据集-张朝/生育期/V3_2011_2020_Beijing.tif','D:/zhuyupeng/数据集-张朝/生育期/V3_2011_2020_Beijing.shp')"
   ]
  },
  {
   "cell_type": "code",
   "execution_count": 131,
   "id": "a838921e",
   "metadata": {
    "ExecuteTime": {
     "end_time": "2022-11-01T22:49:47.064296Z",
     "start_time": "2022-11-01T22:49:29.778563Z"
    }
   },
   "outputs": [
    {
     "data": {
      "text/html": [
       "<div>\n",
       "<style scoped>\n",
       "    .dataframe tbody tr th:only-of-type {\n",
       "        vertical-align: middle;\n",
       "    }\n",
       "\n",
       "    .dataframe tbody tr th {\n",
       "        vertical-align: top;\n",
       "    }\n",
       "\n",
       "    .dataframe thead th {\n",
       "        text-align: right;\n",
       "    }\n",
       "</style>\n",
       "<table border=\"1\" class=\"dataframe\">\n",
       "  <thead>\n",
       "    <tr style=\"text-align: right;\">\n",
       "      <th></th>\n",
       "      <th>value</th>\n",
       "      <th>geometry</th>\n",
       "    </tr>\n",
       "  </thead>\n",
       "  <tbody>\n",
       "    <tr>\n",
       "      <th>0</th>\n",
       "      <td>124.0000</td>\n",
       "      <td>POLYGON ((116.62486 41.00684, 116.62513 41.006...</td>\n",
       "    </tr>\n",
       "    <tr>\n",
       "      <th>1</th>\n",
       "      <td>141.0000</td>\n",
       "      <td>POLYGON ((116.62513 41.00684, 116.62567 41.006...</td>\n",
       "    </tr>\n",
       "    <tr>\n",
       "      <th>2</th>\n",
       "      <td>145.0000</td>\n",
       "      <td>POLYGON ((116.62567 41.00684, 116.62594 41.006...</td>\n",
       "    </tr>\n",
       "    <tr>\n",
       "      <th>3</th>\n",
       "      <td>151.0000</td>\n",
       "      <td>POLYGON ((116.62594 41.00684, 116.62648 41.006...</td>\n",
       "    </tr>\n",
       "    <tr>\n",
       "      <th>4</th>\n",
       "      <td>150.0000</td>\n",
       "      <td>POLYGON ((116.62648 41.00684, 116.62675 41.006...</td>\n",
       "    </tr>\n",
       "    <tr>\n",
       "      <th>...</th>\n",
       "      <td>...</td>\n",
       "      <td>...</td>\n",
       "    </tr>\n",
       "    <tr>\n",
       "      <th>211959</th>\n",
       "      <td>167.0000</td>\n",
       "      <td>POLYGON ((116.42705 39.44350, 116.42759 39.443...</td>\n",
       "    </tr>\n",
       "    <tr>\n",
       "      <th>211960</th>\n",
       "      <td>168.0000</td>\n",
       "      <td>POLYGON ((116.42705 39.44323, 116.42732 39.443...</td>\n",
       "    </tr>\n",
       "    <tr>\n",
       "      <th>211961</th>\n",
       "      <td>0.0000</td>\n",
       "      <td>POLYGON ((115.41672 41.05912, 117.50826 41.059...</td>\n",
       "    </tr>\n",
       "    <tr>\n",
       "      <th>211962</th>\n",
       "      <td>150.0000</td>\n",
       "      <td>POLYGON ((116.42732 39.44296, 116.42759 39.442...</td>\n",
       "    </tr>\n",
       "    <tr>\n",
       "      <th>211963</th>\n",
       "      <td>154.0000</td>\n",
       "      <td>POLYGON ((116.42786 39.44242, 116.42813 39.442...</td>\n",
       "    </tr>\n",
       "  </tbody>\n",
       "</table>\n",
       "<p>211964 rows × 2 columns</p>\n",
       "</div>"
      ],
      "text/plain": [
       "          value                                           geometry\n",
       "0      124.0000  POLYGON ((116.62486 41.00684, 116.62513 41.006...\n",
       "1      141.0000  POLYGON ((116.62513 41.00684, 116.62567 41.006...\n",
       "2      145.0000  POLYGON ((116.62567 41.00684, 116.62594 41.006...\n",
       "3      151.0000  POLYGON ((116.62594 41.00684, 116.62648 41.006...\n",
       "4      150.0000  POLYGON ((116.62648 41.00684, 116.62675 41.006...\n",
       "...         ...                                                ...\n",
       "211959 167.0000  POLYGON ((116.42705 39.44350, 116.42759 39.443...\n",
       "211960 168.0000  POLYGON ((116.42705 39.44323, 116.42732 39.443...\n",
       "211961   0.0000  POLYGON ((115.41672 41.05912, 117.50826 41.059...\n",
       "211962 150.0000  POLYGON ((116.42732 39.44296, 116.42759 39.442...\n",
       "211963 154.0000  POLYGON ((116.42786 39.44242, 116.42813 39.442...\n",
       "\n",
       "[211964 rows x 2 columns]"
      ]
     },
     "execution_count": 131,
     "metadata": {},
     "output_type": "execute_result"
    }
   ],
   "source": [
    "shp = gpd.read_file('D:/zhuyupeng/数据集-张朝/生育期/V3_2011_2020_Beijing.shp')\n",
    "shp"
   ]
  },
  {
   "cell_type": "code",
   "execution_count": 133,
   "id": "e38c8d57",
   "metadata": {
    "ExecuteTime": {
     "end_time": "2022-11-01T22:50:12.361805Z",
     "start_time": "2022-11-01T22:50:12.339818Z"
    }
   },
   "outputs": [
    {
     "data": {
      "image/svg+xml": [
       "<svg xmlns=\"http://www.w3.org/2000/svg\" xmlns:xlink=\"http://www.w3.org/1999/xlink\" width=\"100.0\" height=\"100.0\" viewBox=\"116.62510767417625 41.00654402450634 0.0005821083041013253 0.00031261371887580935\" preserveAspectRatio=\"xMinYMin meet\"><g transform=\"matrix(1,0,0,-1,0,82.01340066273156)\"><path fill-rule=\"evenodd\" fill=\"#66cc99\" stroke=\"#555555\" stroke-width=\"1.1642166082026507e-05\" opacity=\"0.6\" d=\"M 116.62512923374307,41.0068350786584 L 116.62566822291353,41.0068350786584 L 116.62566822291353,41.00656558407316 L 116.62512923374307,41.00656558407316 L 116.62512923374307,41.0068350786584 z\" /></g></svg>"
      ],
      "text/plain": [
       "<shapely.geometry.polygon.Polygon at 0x1fb719354f0>"
      ]
     },
     "execution_count": 133,
     "metadata": {},
     "output_type": "execute_result"
    }
   ],
   "source": [
    "shp.geometry[1]"
   ]
  },
  {
   "cell_type": "code",
   "execution_count": 134,
   "id": "6548172a",
   "metadata": {
    "ExecuteTime": {
     "end_time": "2022-11-01T22:50:24.469134Z",
     "start_time": "2022-11-01T22:50:24.445962Z"
    }
   },
   "outputs": [
    {
     "data": {
      "text/plain": [
       "139.64858655243344"
      ]
     },
     "execution_count": 134,
     "metadata": {},
     "output_type": "execute_result"
    }
   ],
   "source": [
    "shp['value'].mean()"
   ]
  },
  {
   "cell_type": "code",
   "execution_count": 139,
   "id": "b1781209",
   "metadata": {
    "ExecuteTime": {
     "end_time": "2022-11-01T22:53:03.823750Z",
     "start_time": "2022-11-01T22:53:03.812318Z"
    }
   },
   "outputs": [
    {
     "data": {
      "text/plain": [
       "139.64858655243344"
      ]
     },
     "execution_count": 139,
     "metadata": {},
     "output_type": "execute_result"
    }
   ],
   "source": [
    "shp['value'].mean()"
   ]
  },
  {
   "cell_type": "code",
   "execution_count": 143,
   "id": "8df2371e",
   "metadata": {
    "ExecuteTime": {
     "end_time": "2022-11-01T22:55:19.807209Z",
     "start_time": "2022-11-01T22:55:18.655452Z"
    }
   },
   "outputs": [
    {
     "data": {
      "text/plain": [
       "146.1998764434729"
      ]
     },
     "execution_count": 143,
     "metadata": {},
     "output_type": "execute_result"
    }
   ],
   "source": [
    "shp1 = shp.cx[116.00671551354548:116.10671551354548, 40.00:41.00]\n",
    "shp1['value'].mean()"
   ]
  },
  {
   "cell_type": "code",
   "execution_count": null,
   "id": "94dc87cd",
   "metadata": {},
   "outputs": [],
   "source": []
  }
 ],
 "metadata": {
  "kernelspec": {
   "display_name": "Python 3 (ipykernel)",
   "language": "python",
   "name": "python3"
  },
  "language_info": {
   "codemirror_mode": {
    "name": "ipython",
    "version": 3
   },
   "file_extension": ".py",
   "mimetype": "text/x-python",
   "name": "python",
   "nbconvert_exporter": "python",
   "pygments_lexer": "ipython3",
   "version": "3.9.12"
  },
  "toc": {
   "base_numbering": 1,
   "nav_menu": {},
   "number_sections": true,
   "sideBar": true,
   "skip_h1_title": false,
   "title_cell": "Table of Contents",
   "title_sidebar": "Contents",
   "toc_cell": false,
   "toc_position": {},
   "toc_section_display": true,
   "toc_window_display": false
  },
  "varInspector": {
   "cols": {
    "lenName": 16,
    "lenType": 16,
    "lenVar": 40
   },
   "kernels_config": {
    "python": {
     "delete_cmd_postfix": "",
     "delete_cmd_prefix": "del ",
     "library": "var_list.py",
     "varRefreshCmd": "print(var_dic_list())"
    },
    "r": {
     "delete_cmd_postfix": ") ",
     "delete_cmd_prefix": "rm(",
     "library": "var_list.r",
     "varRefreshCmd": "cat(var_dic_list()) "
    }
   },
   "types_to_exclude": [
    "module",
    "function",
    "builtin_function_or_method",
    "instance",
    "_Feature"
   ],
   "window_display": false
  },
  "vp": {
   "vp_config_version": "1.0.0",
   "vp_menu_width": 273,
   "vp_note_display": false,
   "vp_note_width": 0,
   "vp_position": {
    "width": 278
   },
   "vp_section_display": false,
   "vp_signature": "VisualPython"
  }
 },
 "nbformat": 4,
 "nbformat_minor": 5
}
