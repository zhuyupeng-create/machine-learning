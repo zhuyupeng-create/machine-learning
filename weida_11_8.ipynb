{
 "cells": [
  {
   "cell_type": "code",
   "execution_count": 1,
   "id": "ee920a5b",
   "metadata": {
    "ExecuteTime": {
     "end_time": "2022-11-08T08:16:35.699243Z",
     "start_time": "2022-11-08T08:16:35.637741Z"
    }
   },
   "outputs": [],
   "source": [
    "import numpy as np\n",
    "import netCDF4 as nc\n",
    "from osgeo import gdal,osr,ogr\n",
    "import os\n",
    "import glob\n",
    "import datetime "
   ]
  },
  {
   "cell_type": "code",
   "execution_count": 25,
   "id": "a6ca61a2",
   "metadata": {
    "ExecuteTime": {
     "end_time": "2022-11-08T08:28:57.335835Z",
     "start_time": "2022-11-08T08:28:57.313380Z"
    }
   },
   "outputs": [],
   "source": [
    "def NC_to_tiffs(data,Output_folder):\n",
    "    nc_data_obj = nc.Dataset(data)\n",
    "    #print(nc_data_obj,type(nc_data_obj)) # 了解NC_DS的数据类型，<class 'netCDF4._netCDF4.Dataset'>\n",
    "    #print(nc_data_obj.variables) # 了解变量的基本信息\n",
    "    #print(nc_data_obj)\n",
    "    Lon = nc_data_obj.variables['longitude'][:]\n",
    "    Lat = nc_data_obj.variables['latitude'][:]\n",
    "    u_arr = np.asarray(nc_data_obj.variables['plant.start'])  # 这里根据需求输入想要转换的波段名称\n",
    "    #print('time_1=',time_1.min(),'time_max=',time_1.max())\n",
    "\n",
    "    #影像的左上角和右下角坐标\n",
    "    LonMin,LatMax,LonMax,LatMin = [Lon.min(),Lat.max(),Lon.max(),Lat.min()] \n",
    "\n",
    "    #分辨率计算\n",
    "    N_Lat = len(Lat) \n",
    "    N_Lon = len(Lon)\n",
    "    Lon_Res = (LonMax - LonMin) /(float(N_Lon)-1)\n",
    "    Lat_Res = (LatMax - LatMin) / (float(N_Lat)-1)\n",
    "\n",
    "    dt = \"plant.start\"#根据需求输入想要转换的波段名称\n",
    "    #创建.tif文件\n",
    "    driver = gdal.GetDriverByName('GTiff')\n",
    "    out_tif_name = Output_folder + '\\\\'+ 'chlor_' + dt + '.tif'\n",
    "    out_tif = driver.Create(out_tif_name,N_Lon,N_Lat,1,gdal.GDT_Float32) \n",
    "     \n",
    "    # 设置影像的显示范围\n",
    "    #-Lat_Res一定要是-的\n",
    "    geotransform = (LonMin, Lon_Res, 0, LatMax, 0, -Lat_Res)\n",
    "    out_tif.SetGeoTransform(geotransform)\n",
    "        \n",
    "    #获取地理坐标系统信息，用于选取需要的地理坐标系统\n",
    "    srs = osr.SpatialReference()\n",
    "    srs.ImportFromEPSG(4326) # 定义输出的坐标系为\"WGS 84\"，AUTHORITY[\"EPSG\",\"4326\"]\n",
    "    out_tif.SetProjection(srs.ExportToWkt()) # 给新建图层赋予投影信息\n",
    "        \n",
    "    #去除异常值    \n",
    "    u_arr[u_arr[:, :]== -32768] = -99\n",
    "        \n",
    "    #数据写出\n",
    "    out_tif.GetRasterBand(1).WriteArray(u_arr)\n",
    "    out_tif.GetRasterBand(1).SetNoDataValue(-99)\n",
    "    out_tif.FlushCache() # 将数据写入硬盘\n",
    "    del out_tif # 注意必须关闭tif文件\n",
    "    #return nc_data_obj.variables"
   ]
  },
  {
   "cell_type": "code",
   "execution_count": 26,
   "id": "1a478db7",
   "metadata": {
    "ExecuteTime": {
     "end_time": "2022-11-08T08:28:57.947108Z",
     "start_time": "2022-11-08T08:28:57.932725Z"
    }
   },
   "outputs": [],
   "source": [
    "def main():\n",
    "    Input_folder = r'D:\\zhuyupeng\\数据集-张朝\\11'\n",
    "    Output_folder = r'D:\\zhuyupeng\\数据集-张朝'\n",
    "       \n",
    "    # 读取所有nc数据\n",
    "    data_list = glob.glob(Input_folder + '\\*.nc')\n",
    "\n",
    "    for i in range(len(data_list)):\n",
    "        data = data_list[i]\n",
    "        NC_to_tiffs(data,Output_folder)\n",
    "        print (data + '-----转tif成功')"
   ]
  },
  {
   "cell_type": "code",
   "execution_count": 27,
   "id": "1a1da941",
   "metadata": {
    "ExecuteTime": {
     "end_time": "2022-11-08T08:28:58.541847Z",
     "start_time": "2022-11-08T08:28:58.408695Z"
    }
   },
   "outputs": [
    {
     "name": "stdout",
     "output_type": "stream",
     "text": [
      "D:\\zhuyupeng\\数据集-张朝\\11\\Wheat.Winter.crop.calendar.fill.nc-----转tif成功\n"
     ]
    }
   ],
   "source": [
    "if __name__ == '__main__':\n",
    "    main()"
   ]
  },
  {
   "cell_type": "code",
   "execution_count": null,
   "id": "8350f68c",
   "metadata": {},
   "outputs": [],
   "source": []
  }
 ],
 "metadata": {
  "kernelspec": {
   "display_name": "Python 3 (ipykernel)",
   "language": "python",
   "name": "python3"
  },
  "language_info": {
   "codemirror_mode": {
    "name": "ipython",
    "version": 3
   },
   "file_extension": ".py",
   "mimetype": "text/x-python",
   "name": "python",
   "nbconvert_exporter": "python",
   "pygments_lexer": "ipython3",
   "version": "3.9.12"
  },
  "toc": {
   "base_numbering": 1,
   "nav_menu": {},
   "number_sections": true,
   "sideBar": true,
   "skip_h1_title": false,
   "title_cell": "Table of Contents",
   "title_sidebar": "Contents",
   "toc_cell": false,
   "toc_position": {},
   "toc_section_display": true,
   "toc_window_display": false
  },
  "varInspector": {
   "cols": {
    "lenName": 16,
    "lenType": 16,
    "lenVar": 40
   },
   "kernels_config": {
    "python": {
     "delete_cmd_postfix": "",
     "delete_cmd_prefix": "del ",
     "library": "var_list.py",
     "varRefreshCmd": "print(var_dic_list())"
    },
    "r": {
     "delete_cmd_postfix": ") ",
     "delete_cmd_prefix": "rm(",
     "library": "var_list.r",
     "varRefreshCmd": "cat(var_dic_list()) "
    }
   },
   "types_to_exclude": [
    "module",
    "function",
    "builtin_function_or_method",
    "instance",
    "_Feature"
   ],
   "window_display": false
  }
 },
 "nbformat": 4,
 "nbformat_minor": 5
}
