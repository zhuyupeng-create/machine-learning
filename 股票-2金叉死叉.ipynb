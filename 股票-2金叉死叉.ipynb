{
 "cells": [
  {
   "cell_type": "code",
   "execution_count": 2,
   "id": "63b96a98",
   "metadata": {},
   "outputs": [],
   "source": [
    "import numpy as np\n",
    "import pandas as pd\n",
    "import tushare as ts\n",
    "import matplotlib.pyplot as plt"
   ]
  },
  {
   "cell_type": "code",
   "execution_count": 23,
   "id": "774ca680",
   "metadata": {},
   "outputs": [
    {
     "name": "stdout",
     "output_type": "stream",
     "text": [
      "本接口即将停止更新，请尽快使用Pro版接口：https://waditu.com/document/2\n"
     ]
    }
   ],
   "source": [
    "df = ts.get_k_data(\"600519\",start=\"1988-01-01\")"
   ]
  },
  {
   "cell_type": "code",
   "execution_count": 24,
   "id": "05bb7f38",
   "metadata": {},
   "outputs": [],
   "source": [
    "df[\"date\"] = pd.to_datetime(df[\"date\"])\n",
    "df = df.set_index(\"date\")"
   ]
  },
  {
   "cell_type": "code",
   "execution_count": 25,
   "id": "ef055bb3",
   "metadata": {},
   "outputs": [
    {
     "data": {
      "text/html": [
       "<div>\n",
       "<style scoped>\n",
       "    .dataframe tbody tr th:only-of-type {\n",
       "        vertical-align: middle;\n",
       "    }\n",
       "\n",
       "    .dataframe tbody tr th {\n",
       "        vertical-align: top;\n",
       "    }\n",
       "\n",
       "    .dataframe thead th {\n",
       "        text-align: right;\n",
       "    }\n",
       "</style>\n",
       "<table border=\"1\" class=\"dataframe\">\n",
       "  <thead>\n",
       "    <tr style=\"text-align: right;\">\n",
       "      <th></th>\n",
       "      <th>open</th>\n",
       "      <th>close</th>\n",
       "      <th>high</th>\n",
       "      <th>low</th>\n",
       "      <th>volume</th>\n",
       "      <th>code</th>\n",
       "    </tr>\n",
       "    <tr>\n",
       "      <th>date</th>\n",
       "      <th></th>\n",
       "      <th></th>\n",
       "      <th></th>\n",
       "      <th></th>\n",
       "      <th></th>\n",
       "      <th></th>\n",
       "    </tr>\n",
       "  </thead>\n",
       "  <tbody>\n",
       "    <tr>\n",
       "      <th>2001-08-27</th>\n",
       "      <td>5.392</td>\n",
       "      <td>5.554</td>\n",
       "      <td>5.902</td>\n",
       "      <td>5.132</td>\n",
       "      <td>406318.00</td>\n",
       "      <td>600519</td>\n",
       "    </tr>\n",
       "    <tr>\n",
       "      <th>2001-08-28</th>\n",
       "      <td>5.467</td>\n",
       "      <td>5.759</td>\n",
       "      <td>5.781</td>\n",
       "      <td>5.407</td>\n",
       "      <td>129647.79</td>\n",
       "      <td>600519</td>\n",
       "    </tr>\n",
       "    <tr>\n",
       "      <th>2001-08-29</th>\n",
       "      <td>5.777</td>\n",
       "      <td>5.684</td>\n",
       "      <td>5.781</td>\n",
       "      <td>5.640</td>\n",
       "      <td>53252.75</td>\n",
       "      <td>600519</td>\n",
       "    </tr>\n",
       "    <tr>\n",
       "      <th>2001-08-30</th>\n",
       "      <td>5.668</td>\n",
       "      <td>5.796</td>\n",
       "      <td>5.860</td>\n",
       "      <td>5.624</td>\n",
       "      <td>48013.06</td>\n",
       "      <td>600519</td>\n",
       "    </tr>\n",
       "    <tr>\n",
       "      <th>2001-08-31</th>\n",
       "      <td>5.804</td>\n",
       "      <td>5.782</td>\n",
       "      <td>5.877</td>\n",
       "      <td>5.749</td>\n",
       "      <td>23231.48</td>\n",
       "      <td>600519</td>\n",
       "    </tr>\n",
       "    <tr>\n",
       "      <th>...</th>\n",
       "      <td>...</td>\n",
       "      <td>...</td>\n",
       "      <td>...</td>\n",
       "      <td>...</td>\n",
       "      <td>...</td>\n",
       "      <td>...</td>\n",
       "    </tr>\n",
       "    <tr>\n",
       "      <th>2021-09-24</th>\n",
       "      <td>1628.000</td>\n",
       "      <td>1694.000</td>\n",
       "      <td>1719.980</td>\n",
       "      <td>1628.000</td>\n",
       "      <td>69537.00</td>\n",
       "      <td>600519</td>\n",
       "    </tr>\n",
       "    <tr>\n",
       "      <th>2021-09-27</th>\n",
       "      <td>1750.000</td>\n",
       "      <td>1855.000</td>\n",
       "      <td>1863.400</td>\n",
       "      <td>1750.000</td>\n",
       "      <td>126869.00</td>\n",
       "      <td>600519</td>\n",
       "    </tr>\n",
       "    <tr>\n",
       "      <th>2021-09-28</th>\n",
       "      <td>1848.000</td>\n",
       "      <td>1822.060</td>\n",
       "      <td>1860.000</td>\n",
       "      <td>1795.000</td>\n",
       "      <td>49221.00</td>\n",
       "      <td>600519</td>\n",
       "    </tr>\n",
       "    <tr>\n",
       "      <th>2021-09-29</th>\n",
       "      <td>1809.000</td>\n",
       "      <td>1820.000</td>\n",
       "      <td>1845.010</td>\n",
       "      <td>1785.900</td>\n",
       "      <td>43291.00</td>\n",
       "      <td>600519</td>\n",
       "    </tr>\n",
       "    <tr>\n",
       "      <th>2021-09-30</th>\n",
       "      <td>1818.180</td>\n",
       "      <td>1830.000</td>\n",
       "      <td>1850.220</td>\n",
       "      <td>1803.400</td>\n",
       "      <td>40539.00</td>\n",
       "      <td>600519</td>\n",
       "    </tr>\n",
       "  </tbody>\n",
       "</table>\n",
       "<p>4803 rows × 6 columns</p>\n",
       "</div>"
      ],
      "text/plain": [
       "                open     close      high       low     volume    code\n",
       "date                                                                 \n",
       "2001-08-27     5.392     5.554     5.902     5.132  406318.00  600519\n",
       "2001-08-28     5.467     5.759     5.781     5.407  129647.79  600519\n",
       "2001-08-29     5.777     5.684     5.781     5.640   53252.75  600519\n",
       "2001-08-30     5.668     5.796     5.860     5.624   48013.06  600519\n",
       "2001-08-31     5.804     5.782     5.877     5.749   23231.48  600519\n",
       "...              ...       ...       ...       ...        ...     ...\n",
       "2021-09-24  1628.000  1694.000  1719.980  1628.000   69537.00  600519\n",
       "2021-09-27  1750.000  1855.000  1863.400  1750.000  126869.00  600519\n",
       "2021-09-28  1848.000  1822.060  1860.000  1795.000   49221.00  600519\n",
       "2021-09-29  1809.000  1820.000  1845.010  1785.900   43291.00  600519\n",
       "2021-09-30  1818.180  1830.000  1850.220  1803.400   40539.00  600519\n",
       "\n",
       "[4803 rows x 6 columns]"
      ]
     },
     "execution_count": 25,
     "metadata": {},
     "output_type": "execute_result"
    }
   ],
   "source": [
    "df"
   ]
  },
  {
   "cell_type": "markdown",
   "id": "50a02cd8",
   "metadata": {},
   "source": [
    "##计算历史股票数据的5日均线和30日均线"
   ]
  },
  {
   "cell_type": "code",
   "execution_count": 26,
   "id": "c8c264ff",
   "metadata": {},
   "outputs": [],
   "source": [
    "df[\"ma5\"]= np.nan\n",
    "df[\"ma30\"]= np.nan\n",
    "\n",
    "for i in range(4, len(df)):\n",
    "    df.loc[df.index[i],\"ma5\"] = df['close'][i-4:i+1].mean()\n",
    " \n",
    "for i in range(29, len(df)):\n",
    "    df.loc[df.index[i],\"ma30\"] = df['close'][i-29:i+1].mean()"
   ]
  },
  {
   "cell_type": "code",
   "execution_count": 27,
   "id": "92532341",
   "metadata": {},
   "outputs": [],
   "source": [
    "df[\"ma5\"] = df[\"close\"].rolling(5).mean()\n",
    "df[\"ma30\"] = df[\"close\"].rolling(30).mean()"
   ]
  },
  {
   "cell_type": "code",
   "execution_count": 28,
   "id": "13e4cf31",
   "metadata": {},
   "outputs": [
    {
     "data": {
      "text/plain": [
       "date\n",
       "2001-08-27         NaN\n",
       "2001-08-28         NaN\n",
       "2001-08-29         NaN\n",
       "2001-08-30         NaN\n",
       "2001-08-31       5.715\n",
       "                ...   \n",
       "2021-09-24    1658.152\n",
       "2021-09-27    1701.538\n",
       "2021-09-28    1728.750\n",
       "2021-09-29    1765.212\n",
       "2021-09-30    1804.212\n",
       "Name: ma5, Length: 4803, dtype: float64"
      ]
     },
     "execution_count": 28,
     "metadata": {},
     "output_type": "execute_result"
    }
   ],
   "source": [
    "df[\"ma5\"]"
   ]
  },
  {
   "cell_type": "code",
   "execution_count": 29,
   "id": "d69013f2",
   "metadata": {},
   "outputs": [
    {
     "data": {
      "text/html": [
       "<div>\n",
       "<style scoped>\n",
       "    .dataframe tbody tr th:only-of-type {\n",
       "        vertical-align: middle;\n",
       "    }\n",
       "\n",
       "    .dataframe tbody tr th {\n",
       "        vertical-align: top;\n",
       "    }\n",
       "\n",
       "    .dataframe thead th {\n",
       "        text-align: right;\n",
       "    }\n",
       "</style>\n",
       "<table border=\"1\" class=\"dataframe\">\n",
       "  <thead>\n",
       "    <tr style=\"text-align: right;\">\n",
       "      <th></th>\n",
       "      <th>open</th>\n",
       "      <th>close</th>\n",
       "      <th>high</th>\n",
       "      <th>low</th>\n",
       "      <th>volume</th>\n",
       "      <th>code</th>\n",
       "      <th>ma5</th>\n",
       "      <th>ma30</th>\n",
       "    </tr>\n",
       "    <tr>\n",
       "      <th>date</th>\n",
       "      <th></th>\n",
       "      <th></th>\n",
       "      <th></th>\n",
       "      <th></th>\n",
       "      <th></th>\n",
       "      <th></th>\n",
       "      <th></th>\n",
       "      <th></th>\n",
       "    </tr>\n",
       "  </thead>\n",
       "  <tbody>\n",
       "    <tr>\n",
       "      <th>2001-08-27</th>\n",
       "      <td>5.392</td>\n",
       "      <td>5.554</td>\n",
       "      <td>5.902</td>\n",
       "      <td>5.132</td>\n",
       "      <td>406318.00</td>\n",
       "      <td>600519</td>\n",
       "      <td>NaN</td>\n",
       "      <td>NaN</td>\n",
       "    </tr>\n",
       "    <tr>\n",
       "      <th>2001-08-28</th>\n",
       "      <td>5.467</td>\n",
       "      <td>5.759</td>\n",
       "      <td>5.781</td>\n",
       "      <td>5.407</td>\n",
       "      <td>129647.79</td>\n",
       "      <td>600519</td>\n",
       "      <td>NaN</td>\n",
       "      <td>NaN</td>\n",
       "    </tr>\n",
       "    <tr>\n",
       "      <th>2001-08-29</th>\n",
       "      <td>5.777</td>\n",
       "      <td>5.684</td>\n",
       "      <td>5.781</td>\n",
       "      <td>5.640</td>\n",
       "      <td>53252.75</td>\n",
       "      <td>600519</td>\n",
       "      <td>NaN</td>\n",
       "      <td>NaN</td>\n",
       "    </tr>\n",
       "    <tr>\n",
       "      <th>2001-08-30</th>\n",
       "      <td>5.668</td>\n",
       "      <td>5.796</td>\n",
       "      <td>5.860</td>\n",
       "      <td>5.624</td>\n",
       "      <td>48013.06</td>\n",
       "      <td>600519</td>\n",
       "      <td>NaN</td>\n",
       "      <td>NaN</td>\n",
       "    </tr>\n",
       "    <tr>\n",
       "      <th>2001-08-31</th>\n",
       "      <td>5.804</td>\n",
       "      <td>5.782</td>\n",
       "      <td>5.877</td>\n",
       "      <td>5.749</td>\n",
       "      <td>23231.48</td>\n",
       "      <td>600519</td>\n",
       "      <td>5.715</td>\n",
       "      <td>NaN</td>\n",
       "    </tr>\n",
       "    <tr>\n",
       "      <th>...</th>\n",
       "      <td>...</td>\n",
       "      <td>...</td>\n",
       "      <td>...</td>\n",
       "      <td>...</td>\n",
       "      <td>...</td>\n",
       "      <td>...</td>\n",
       "      <td>...</td>\n",
       "      <td>...</td>\n",
       "    </tr>\n",
       "    <tr>\n",
       "      <th>2021-09-24</th>\n",
       "      <td>1628.000</td>\n",
       "      <td>1694.000</td>\n",
       "      <td>1719.980</td>\n",
       "      <td>1628.000</td>\n",
       "      <td>69537.00</td>\n",
       "      <td>600519</td>\n",
       "      <td>1658.152</td>\n",
       "      <td>1636.453000</td>\n",
       "    </tr>\n",
       "    <tr>\n",
       "      <th>2021-09-27</th>\n",
       "      <td>1750.000</td>\n",
       "      <td>1855.000</td>\n",
       "      <td>1863.400</td>\n",
       "      <td>1750.000</td>\n",
       "      <td>126869.00</td>\n",
       "      <td>600519</td>\n",
       "      <td>1701.538</td>\n",
       "      <td>1641.953000</td>\n",
       "    </tr>\n",
       "    <tr>\n",
       "      <th>2021-09-28</th>\n",
       "      <td>1848.000</td>\n",
       "      <td>1822.060</td>\n",
       "      <td>1860.000</td>\n",
       "      <td>1795.000</td>\n",
       "      <td>49221.00</td>\n",
       "      <td>600519</td>\n",
       "      <td>1728.750</td>\n",
       "      <td>1646.020333</td>\n",
       "    </tr>\n",
       "    <tr>\n",
       "      <th>2021-09-29</th>\n",
       "      <td>1809.000</td>\n",
       "      <td>1820.000</td>\n",
       "      <td>1845.010</td>\n",
       "      <td>1785.900</td>\n",
       "      <td>43291.00</td>\n",
       "      <td>600519</td>\n",
       "      <td>1765.212</td>\n",
       "      <td>1650.047000</td>\n",
       "    </tr>\n",
       "    <tr>\n",
       "      <th>2021-09-30</th>\n",
       "      <td>1818.180</td>\n",
       "      <td>1830.000</td>\n",
       "      <td>1850.220</td>\n",
       "      <td>1803.400</td>\n",
       "      <td>40539.00</td>\n",
       "      <td>600519</td>\n",
       "      <td>1804.212</td>\n",
       "      <td>1656.547000</td>\n",
       "    </tr>\n",
       "  </tbody>\n",
       "</table>\n",
       "<p>4803 rows × 8 columns</p>\n",
       "</div>"
      ],
      "text/plain": [
       "                open     close      high       low     volume    code  \\\n",
       "date                                                                    \n",
       "2001-08-27     5.392     5.554     5.902     5.132  406318.00  600519   \n",
       "2001-08-28     5.467     5.759     5.781     5.407  129647.79  600519   \n",
       "2001-08-29     5.777     5.684     5.781     5.640   53252.75  600519   \n",
       "2001-08-30     5.668     5.796     5.860     5.624   48013.06  600519   \n",
       "2001-08-31     5.804     5.782     5.877     5.749   23231.48  600519   \n",
       "...              ...       ...       ...       ...        ...     ...   \n",
       "2021-09-24  1628.000  1694.000  1719.980  1628.000   69537.00  600519   \n",
       "2021-09-27  1750.000  1855.000  1863.400  1750.000  126869.00  600519   \n",
       "2021-09-28  1848.000  1822.060  1860.000  1795.000   49221.00  600519   \n",
       "2021-09-29  1809.000  1820.000  1845.010  1785.900   43291.00  600519   \n",
       "2021-09-30  1818.180  1830.000  1850.220  1803.400   40539.00  600519   \n",
       "\n",
       "                 ma5         ma30  \n",
       "date                               \n",
       "2001-08-27       NaN          NaN  \n",
       "2001-08-28       NaN          NaN  \n",
       "2001-08-29       NaN          NaN  \n",
       "2001-08-30       NaN          NaN  \n",
       "2001-08-31     5.715          NaN  \n",
       "...              ...          ...  \n",
       "2021-09-24  1658.152  1636.453000  \n",
       "2021-09-27  1701.538  1641.953000  \n",
       "2021-09-28  1728.750  1646.020333  \n",
       "2021-09-29  1765.212  1650.047000  \n",
       "2021-09-30  1804.212  1656.547000  \n",
       "\n",
       "[4803 rows x 8 columns]"
      ]
     },
     "execution_count": 29,
     "metadata": {},
     "output_type": "execute_result"
    }
   ],
   "source": [
    "df"
   ]
  },
  {
   "cell_type": "markdown",
   "id": "27166639",
   "metadata": {},
   "source": [
    "##可视化历史股票的收盘价和两条均线"
   ]
  },
  {
   "cell_type": "code",
   "execution_count": 30,
   "id": "7b321fcb",
   "metadata": {},
   "outputs": [
    {
     "data": {
      "text/plain": [
       "<AxesSubplot:xlabel='date'>"
      ]
     },
     "execution_count": 30,
     "metadata": {},
     "output_type": "execute_result"
    },
    {
     "data": {
      "image/png": "[encoded data removed]",
      "text/plain": [
       "<Figure size 432x288 with 1 Axes>"
      ]
     },
     "metadata": {
      "needs_background": "light"
     },
     "output_type": "display_data"
    }
   ],
   "source": [
    "df[['close','ma5','ma30']].plot()"
   ]
  },
  {
   "cell_type": "markdown",
   "id": "3830662c",
   "metadata": {},
   "source": [
    "##数据所有金叉日期和死叉日期"
   ]
  },
  {
   "cell_type": "code",
   "execution_count": 31,
   "id": "8a53955f",
   "metadata": {},
   "outputs": [],
   "source": [
    "df = df.dropna()"
   ]
  },
  {
   "cell_type": "code",
   "execution_count": 41,
   "id": "f6ef2965",
   "metadata": {},
   "outputs": [],
   "source": [
    "df = df[\"2010-01-01\":]"
   ]
  },
  {
   "cell_type": "code",
   "execution_count": 42,
   "id": "dcb43d0e",
   "metadata": {},
   "outputs": [
    {
     "data": {
      "text/plain": [
       "[Timestamp('2010-01-20 00:00:00'),\n",
       " Timestamp('2010-02-03 00:00:00'),\n",
       " Timestamp('2010-06-04 00:00:00'),\n",
       " Timestamp('2010-07-19 00:00:00'),\n",
       " Timestamp('2010-10-22 00:00:00'),\n",
       " Timestamp('2010-11-10 00:00:00'),\n",
       " Timestamp('2011-02-11 00:00:00'),\n",
       " Timestamp('2011-03-14 00:00:00'),\n",
       " Timestamp('2011-04-28 00:00:00'),\n",
       " Timestamp('2011-10-25 00:00:00'),\n",
       " Timestamp('2012-02-10 00:00:00'),\n",
       " Timestamp('2012-07-25 00:00:00'),\n",
       " Timestamp('2012-08-09 00:00:00'),\n",
       " Timestamp('2012-09-12 00:00:00'),\n",
       " Timestamp('2012-09-27 00:00:00'),\n",
       " Timestamp('2012-12-21 00:00:00'),\n",
       " Timestamp('2013-01-10 00:00:00'),\n",
       " Timestamp('2013-03-12 00:00:00'),\n",
       " Timestamp('2013-04-17 00:00:00'),\n",
       " Timestamp('2013-07-03 00:00:00'),\n",
       " Timestamp('2013-10-22 00:00:00'),\n",
       " Timestamp('2013-11-11 00:00:00'),\n",
       " Timestamp('2013-11-28 00:00:00'),\n",
       " Timestamp('2014-01-23 00:00:00'),\n",
       " Timestamp('2014-04-03 00:00:00'),\n",
       " Timestamp('2014-06-23 00:00:00'),\n",
       " Timestamp('2014-09-04 00:00:00'),\n",
       " Timestamp('2014-09-29 00:00:00'),\n",
       " Timestamp('2014-11-20 00:00:00'),\n",
       " Timestamp('2014-11-28 00:00:00'),\n",
       " Timestamp('2015-02-13 00:00:00'),\n",
       " Timestamp('2015-07-15 00:00:00'),\n",
       " Timestamp('2015-09-16 00:00:00'),\n",
       " Timestamp('2015-10-09 00:00:00'),\n",
       " Timestamp('2015-12-03 00:00:00'),\n",
       " Timestamp('2015-12-21 00:00:00'),\n",
       " Timestamp('2016-02-22 00:00:00'),\n",
       " Timestamp('2016-08-11 00:00:00'),\n",
       " Timestamp('2016-10-13 00:00:00'),\n",
       " Timestamp('2016-11-25 00:00:00'),\n",
       " Timestamp('2017-07-24 00:00:00'),\n",
       " Timestamp('2017-09-18 00:00:00'),\n",
       " Timestamp('2017-12-15 00:00:00'),\n",
       " Timestamp('2018-03-16 00:00:00'),\n",
       " Timestamp('2018-05-09 00:00:00'),\n",
       " Timestamp('2018-07-18 00:00:00'),\n",
       " Timestamp('2018-07-25 00:00:00'),\n",
       " Timestamp('2018-09-20 00:00:00'),\n",
       " Timestamp('2018-12-04 00:00:00'),\n",
       " Timestamp('2019-01-03 00:00:00'),\n",
       " Timestamp('2019-06-14 00:00:00'),\n",
       " Timestamp('2019-08-13 00:00:00'),\n",
       " Timestamp('2020-01-02 00:00:00'),\n",
       " Timestamp('2020-02-19 00:00:00'),\n",
       " Timestamp('2020-03-03 00:00:00'),\n",
       " Timestamp('2020-04-02 00:00:00'),\n",
       " Timestamp('2020-08-19 00:00:00'),\n",
       " Timestamp('2020-10-14 00:00:00'),\n",
       " Timestamp('2020-11-05 00:00:00'),\n",
       " Timestamp('2021-04-02 00:00:00'),\n",
       " Timestamp('2021-04-16 00:00:00'),\n",
       " Timestamp('2021-05-20 00:00:00'),\n",
       " Timestamp('2021-09-16 00:00:00')]"
      ]
     },
     "execution_count": 42,
     "metadata": {},
     "output_type": "execute_result"
    }
   ],
   "source": [
    "golden_cross = []\n",
    "death_cross = []\n",
    "\n",
    "for i in range(1,len(df)):\n",
    "    if df[\"ma5\"][i] >= df[\"ma30\"][i] and df[\"ma5\"][i-1] <= df[\"ma30\"][i-1]:\n",
    "        golden_cross.append(df.index[i])\n",
    "    if df[\"ma5\"][i] <= df[\"ma30\"][i] and df[\"ma5\"][i-1] >= df[\"ma30\"][i-1]:\n",
    "        death_cross.append(df.index[i])\n",
    "\n",
    "        \n",
    "golden_cross       "
   ]
  },
  {
   "cell_type": "code",
   "execution_count": 43,
   "id": "35ca9a63",
   "metadata": {},
   "outputs": [
    {
     "data": {
      "text/plain": [
       "DatetimeIndex(['2010-01-20', '2010-02-03', '2010-06-04', '2010-07-19',\n",
       "               '2010-10-22', '2010-11-10', '2011-02-11', '2011-03-14',\n",
       "               '2011-04-28', '2011-10-25', '2012-02-10', '2012-07-25',\n",
       "               '2012-08-09', '2012-09-12', '2012-09-27', '2012-12-21',\n",
       "               '2013-01-10', '2013-03-12', '2013-04-17', '2013-07-03',\n",
       "               '2013-10-22', '2013-11-11', '2013-11-28', '2014-01-23',\n",
       "               '2014-04-03', '2014-06-23', '2014-09-04', '2014-09-29',\n",
       "               '2014-11-20', '2014-11-28', '2015-02-13', '2015-07-15',\n",
       "               '2015-09-16', '2015-10-09', '2015-12-03', '2015-12-21',\n",
       "               '2016-02-22', '2016-08-11', '2016-10-13', '2016-11-25',\n",
       "               '2017-07-24', '2017-09-18', '2017-12-15', '2018-03-16',\n",
       "               '2018-05-09', '2018-07-18', '2018-07-25', '2018-09-20',\n",
       "               '2018-12-04', '2019-01-03', '2019-06-14', '2019-08-13',\n",
       "               '2020-01-02', '2020-02-19', '2020-03-03', '2020-04-02',\n",
       "               '2020-08-19', '2020-10-14', '2020-11-05', '2021-04-02',\n",
       "               '2021-04-16', '2021-05-20', '2021-09-16'],\n",
       "              dtype='datetime64[ns]', name='date', freq=None)"
      ]
     },
     "execution_count": 43,
     "metadata": {},
     "output_type": "execute_result"
    }
   ],
   "source": [
    "sr1 = df[\"ma5\"] < df[\"ma30\"]\n",
    "sr2 = df[\"ma5\"] >= df[\"ma30\"]\n",
    "\n",
    "golden_cross = df[ - (sr1 | sr2.shift(1))].index\n",
    "death_cross = df[sr1 & sr2.shift(1)].index\n",
    "\n",
    "golden_cross"
   ]
  },
  {
   "cell_type": "markdown",
   "id": "54075817",
   "metadata": {},
   "source": [
    "##投入金钱10000，根据金叉，尽量买入/死叉，全部卖出，进行投资。截止今天，我们的收益如何？"
   ]
  },
  {
   "cell_type": "code",
   "execution_count": 48,
   "id": "d8b99ba6",
   "metadata": {},
   "outputs": [
    {
     "name": "stdout",
     "output_type": "stream",
     "text": [
      "90717.29999999999\n"
     ]
    }
   ],
   "source": [
    "first_money = 10000\n",
    "money = first_money\n",
    "hold = 0\n",
    "\n",
    "sr1 = pd.Series(1,index=golden_cross)\n",
    "sr2 = pd.Series(0,index=death_cross)\n",
    "sr = sr1.append(sr2).sort_index()\n",
    "\n",
    "for i in range(0,len(sr)):\n",
    "    p = df[\"open\"][sr.index[i]]\n",
    "    if sr.iloc[i] ==1:\n",
    "        #金叉\n",
    "        buy = (money // (100 *p))\n",
    "        hold += buy*100\n",
    "        money -= buy*100*p\n",
    "    else:\n",
    "        money += hold*p\n",
    "        hold = 0\n",
    "        \n",
    "p = df[\"open\"][-1]\n",
    "now_money = hold * p + money\n",
    "\n",
    "print(now_money-first_money)"
   ]
  },
  {
   "cell_type": "code",
   "execution_count": null,
   "id": "36da65a2",
   "metadata": {},
   "outputs": [],
   "source": []
  }
 ],
 "metadata": {
  "kernelspec": {
   "display_name": "Python 3 (ipykernel)",
   "language": "python",
   "name": "python3"
  },
  "language_info": {
   "codemirror_mode": {
    "name": "ipython",
    "version": 3
   },
   "file_extension": ".py",
   "mimetype": "text/x-python",
   "name": "python",
   "nbconvert_exporter": "python",
   "pygments_lexer": "ipython3",
   "version": "3.8.12"
  }
 },
 "nbformat": 4,
 "nbformat_minor": 5
}
